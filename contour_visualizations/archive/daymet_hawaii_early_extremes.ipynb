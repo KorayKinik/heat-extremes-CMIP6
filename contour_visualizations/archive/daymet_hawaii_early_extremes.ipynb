{
 "cells": [
  {
   "cell_type": "markdown",
   "id": "5be76127-c003-4345-a9da-e63122c4a30d",
   "metadata": {},
   "source": [
    "####################################\n",
    "# Our first attempts of detecting heat waves using Daymet Data - Hawaii region\n",
    "####################################"
   ]
  },
  {
   "cell_type": "code",
   "execution_count": 1,
   "id": "cfba35d9-5daa-457c-90eb-d36084cb7107",
   "metadata": {},
   "outputs": [
    {
     "name": "stdout",
     "output_type": "stream",
     "text": [
      "/services/dask-gateway/clusters/prod.0a37b8122baf41788f3dcc01ddf5e838/status\n"
     ]
    }
   ],
   "source": [
    "import dask_gateway\n",
    "\n",
    "cluster = dask_gateway.GatewayCluster()\n",
    "client = cluster.get_client()\n",
    "cluster.scale(40)\n",
    "print(cluster.dashboard_link)"
   ]
  },
  {
   "cell_type": "code",
   "execution_count": 2,
   "id": "34632edb-f369-4a54-9979-ccf9099625cd",
   "metadata": {},
   "outputs": [],
   "source": [
    "from matplotlib import pyplot as plt\n",
    "import matplotlib.dates as mdates\n",
    "from matplotlib.patches import Rectangle\n",
    "\n",
    "from datetime import datetime, timedelta\n",
    "import numpy as np\n",
    "import pandas as pd\n",
    "import xarray as xr\n",
    "import zarr\n",
    "import fsspec\n",
    "\n",
    "%matplotlib inline\n",
    "%config InlineBackend.figure_format = 'retina'\n",
    "plt.rcParams['figure.figsize'] = 12,8"
   ]
  },
  {
   "cell_type": "code",
   "execution_count": 4,
   "id": "0d2567f0-59a0-471c-8bb6-941521ae4a0d",
   "metadata": {},
   "outputs": [
    {
     "name": "stdout",
     "output_type": "stream",
     "text": [
      "shape z,y,x= (14965, 584, 284)\n"
     ]
    }
   ],
   "source": [
    "################################\n",
    "# Read the dataset (only reads the metadata) - HAWAII\n",
    "################################\n",
    "\n",
    "# Ref: dataset at\n",
    "# https://daac.ornl.gov/DAYMET/guides/Daymet_Daily_V4.html#datasetoverview\n",
    "\n",
    "import pystac\n",
    "import fsspec\n",
    "import xarray as xr\n",
    "\n",
    "account_name = \"daymeteuwest\"\n",
    "container_name = \"daymet-zarr\"\n",
    "\n",
    "collection = pystac.Collection.from_file(\n",
    "    \"https://planetarycomputer.microsoft.com/api/stac/v1/collections/daymet-daily-hi\"\n",
    ")\n",
    "asset = collection.assets[\"zarr-https\"]\n",
    "\n",
    "store = fsspec.get_mapper(asset.href)\n",
    "ds = xr.open_zarr(store, **asset.extra_fields[\"xarray:open_kwargs\"])\n",
    "\n",
    "arr_tmax = ds['tmax'].values\n",
    "print('shape z,y,x=', arr_tmax.shape)"
   ]
  },
  {
   "cell_type": "code",
   "execution_count": 3,
   "id": "f477da8f-a89e-4f8d-b4bd-0cac8fbb0d33",
   "metadata": {},
   "outputs": [],
   "source": [
    "################################\n",
    "# PART II - run the algorithm for each x,y coordinates\n",
    "################################\n",
    "\n",
    "# # algorithm coefs:\n",
    "TEMP_DIFF_THRESHOLD = 1 # Celcius (or K)\n",
    "PERSISTED_FOR_MIN = 3 # days\n",
    "    \n",
    "def flag_heat_periods(iX:int, iY:int) -> np.array:\n",
    "    \"\"\"\n",
    "    # This is a slightly different logic then in the first version. \n",
    "    # It 'flags' the time array with True:a day was a part of the \n",
    "    # 'long' and 'hot' windows\n",
    "    # those fit into our heat extreme criteria, and False: not.\n",
    "    # Again it runs for a given, single location (pixel)\n",
    "    \"\"\"\n",
    "    \n",
    "    xr_tmax = ds['tmax'].isel(x=iX, y=iY) \n",
    "    xr_tmax_avg = xr_tmax.rolling(time=15, center=True).mean()\n",
    "    xr_tmax_diff = xr_tmax - xr_tmax_avg\n",
    "\n",
    "    df_tmax = pd.DataFrame(xr_tmax.to_pandas())\n",
    "    df_avg = pd.DataFrame(xr_tmax_avg.to_pandas())\n",
    "    df_diff = pd.DataFrame(xr_tmax_diff.to_pandas())\n",
    "\n",
    "    #############\n",
    "    # algorithm\n",
    "    #############\n",
    "\n",
    "    df = pd.concat([df_tmax, df_avg, df_diff], axis=1)\n",
    "    df.columns = ['tmax', 'mov_avg', 'diff']\n",
    "\n",
    "    df['hot'] = df['diff'] > TEMP_DIFF_THRESHOLD \n",
    "    df['label'] = df['hot'].diff().ne(False).cumsum()\n",
    "    df = df.reset_index().reset_index()\n",
    "    summer_months = [5,6,7,8,9]\n",
    "    df['isSummer'] = df['time'].dt.month.isin(summer_months)\n",
    "\n",
    "    dff = df[df['isSummer'] & df['hot']].dropna(subset=['diff']) \n",
    "\n",
    "    dfg = dff.groupby('label').agg({\n",
    "        'index':[np.min,np.max,len],  \n",
    "    })\n",
    "    dfg.columns = ['i1','i2','count']\n",
    "    dfg = dfg[dfg['count'] >= PERSISTED_FOR_MIN]\n",
    "    dfg = dfg.drop('count', axis=1)\n",
    "    dfg = dfg.reset_index(drop=True)\n",
    "    \n",
    "    arr = np.zeros((len(tmax),), dtype=int) \n",
    "    for _, (i, j) in dfg.iterrows():\n",
    "        arr[i:j+1] = 1 # +1 because does not index inclusively\n",
    "\n",
    "    return arr"
   ]
  },
  {
   "cell_type": "code",
   "execution_count": 78,
   "id": "40e34647-efe8-4193-85c6-3de05328d52b",
   "metadata": {},
   "outputs": [
    {
     "name": "stdout",
     "output_type": "stream",
     "text": [
      "CPU times: user 8.62 s, sys: 237 ms, total: 8.85 s\n",
      "Wall time: 1min 49s\n"
     ]
    },
    {
     "data": {
      "text/plain": [
       "((14965, 5, 5), 1532)"
      ]
     },
     "execution_count": 78,
     "metadata": {},
     "output_type": "execute_result"
    }
   ],
   "source": [
    "%%time\n",
    "################################\n",
    "# Populate a 3D array with flagged heat events\n",
    "################################\n",
    "\n",
    "tmax = ds['tmax']\n",
    "\n",
    "# create grid for all x,y coordinate pairs [0,1],[0,2],..[283,583]\n",
    "shape_yx = tmax.data.shape[1:] # np.shape order -> zyx\n",
    "arr_y = np.arange(shape_yx[0])\n",
    "arr_x = np.arange(shape_yx[1])\n",
    "all_coordinates = np.array(np.meshgrid(arr_x, arr_y)).T.reshape(-1, 2)\n",
    "\n",
    "# create empty 3D array to fill with heat event flags\n",
    "arr3d = np.zeros(tmax.data.shape).astype(int)\n",
    "\n",
    "# loop through all iX,iY pairs\n",
    "for i, j in all_coordinates:\n",
    "    \n",
    "    no_data = np.isnan(tmax.isel(x=i, y=j).values).all()\n",
    "    if no_data:\n",
    "        arr1d = np.zeros((len(tmax),), dtype=int)\n",
    "    else:\n",
    "        arr1d = flag_heat_periods(i, j)\n",
    "\n",
    "    arr3d[:,j,i] = arr1d  \n",
    "\n",
    "np.save('./arr3d.npy', arr3d) # persist expensive output\n",
    "arr3d.shape, arr3d.sum() # just to print total number of True's"
   ]
  }
 ],
 "metadata": {
  "kernelspec": {
   "display_name": "Python 3 (ipykernel)",
   "language": "python",
   "name": "python3"
  },
  "language_info": {
   "codemirror_mode": {
    "name": "ipython",
    "version": 3
   },
   "file_extension": ".py",
   "mimetype": "text/x-python",
   "name": "python",
   "nbconvert_exporter": "python",
   "pygments_lexer": "ipython3",
   "version": "3.8.12"
  }
 },
 "nbformat": 4,
 "nbformat_minor": 5
}
