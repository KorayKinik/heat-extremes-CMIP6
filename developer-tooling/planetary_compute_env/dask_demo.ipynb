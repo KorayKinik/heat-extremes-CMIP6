{
 "cells": [
  {
   "cell_type": "code",
   "execution_count": 1,
   "id": "6d565a67-c1c9-43b4-9c64-a5091fed0cc9",
   "metadata": {},
   "outputs": [
    {
     "name": "stderr",
     "output_type": "stream",
     "text": [
      "/srv/conda/envs/notebook/lib/python3.8/site-packages/dask_gateway/client.py:21: FutureWarning: format_bytes is deprecated and will be removed in a future release. Please use dask.utils.format_bytes instead.\n",
      "  from distributed.utils import LoopRunner, format_bytes\n"
     ]
    },
    {
     "name": "stdout",
     "output_type": "stream",
     "text": [
      "https://pccompute.westeurope.cloudapp.azure.com/compute/services/dask-gateway/clusters/prod.2c13f50b83fa4f07baa16253af671452/status\n"
     ]
    }
   ],
   "source": [
    "import dask_gateway\n",
    "\n",
    "cluster = dask_gateway.GatewayCluster()\n",
    "client = cluster.get_client()\n",
    "cluster.scale(2)\n",
    "print(cluster.dashboard_link)"
   ]
  },
  {
   "cell_type": "code",
   "execution_count": 2,
   "id": "b038aee1-2f06-4a0e-84b0-8fcb63dce670",
   "metadata": {},
   "outputs": [],
   "source": [
    "from dask import delayed\n",
    "from dev_concept.simple_funcs import dask_add, dask_inc"
   ]
  },
  {
   "cell_type": "code",
   "execution_count": 3,
   "id": "60070dbc-1bf4-4576-9ad3-18334720311f",
   "metadata": {},
   "outputs": [
    {
     "name": "stdout",
     "output_type": "stream",
     "text": [
      "CPU times: user 65 µs, sys: 25 µs, total: 90 µs\n",
      "Wall time: 484 µs\n"
     ]
    }
   ],
   "source": [
    "%%time\n",
    "# This runs immediately, all it does is build a graph\n",
    "\n",
    "x = delayed(dask_inc)(1)\n",
    "y = delayed(dask_inc)(2)\n",
    "z = delayed(dask_add)(x, y)"
   ]
  },
  {
   "cell_type": "code",
   "execution_count": 4,
   "id": "e9a81163-e6ed-405e-a7fa-c5036526b8c2",
   "metadata": {},
   "outputs": [
    {
     "name": "stdout",
     "output_type": "stream",
     "text": [
      "CPU times: user 274 ms, sys: 119 ms, total: 393 ms\n",
      "Wall time: 2min 20s\n"
     ]
    },
    {
     "data": {
      "text/plain": [
       "5"
      ]
     },
     "execution_count": 4,
     "metadata": {},
     "output_type": "execute_result"
    }
   ],
   "source": [
    "%%time\n",
    "# This actually runs our computation using a local thread pool\n",
    "\n",
    "z.compute()"
   ]
  },
  {
   "cell_type": "code",
   "execution_count": 3,
   "id": "b91e1439-1453-4529-a00e-438f77ae599b",
   "metadata": {},
   "outputs": [
    {
     "data": {
      "text/plain": [
       "1"
      ]
     },
     "execution_count": 3,
     "metadata": {},
     "output_type": "execute_result"
    }
   ],
   "source": [
    "from dev_concept.simple_funcs import new_func\n",
    "\n",
    "new_func(1)"
   ]
  },
  {
   "cell_type": "code",
   "execution_count": null,
   "id": "89a33ec5-deba-4ebe-a2d2-78cc916b7606",
   "metadata": {},
   "outputs": [],
   "source": []
  }
 ],
 "metadata": {
  "kernelspec": {
   "display_name": "Python 3 (ipykernel)",
   "language": "python",
   "name": "python3"
  },
  "language_info": {
   "codemirror_mode": {
    "name": "ipython",
    "version": 3
   },
   "file_extension": ".py",
   "mimetype": "text/x-python",
   "name": "python",
   "nbconvert_exporter": "python",
   "pygments_lexer": "ipython3",
   "version": "3.8.12"
  }
 },
 "nbformat": 4,
 "nbformat_minor": 5
}
