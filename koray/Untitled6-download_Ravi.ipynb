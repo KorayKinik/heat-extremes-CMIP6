{
 "cells": [
  {
   "cell_type": "code",
   "execution_count": 157,
   "source": [
    "\n",
    "import io\n",
    "import os\n",
    "%matplotlib inline\n",
    "import matplotlib.pyplot as plt\n",
    "\n",
    "# data management\n",
    "import xarray as xr\n",
    "import numpy as np\n",
    "import pandas as pd\n",
    "\n",
    "# Azure Connectivity\n",
    "import getpass\n",
    "import azure.storage.blob\n",
    "from azure.storage.blob import BlobClient\n",
    "\n",
    "# utilities\n",
    "import time\n",
    "import urllib.parse\n",
    "from pathlib import Path\n",
    "from tempfile import NamedTemporaryFile\n"
   ],
   "outputs": [],
   "metadata": {}
  },
  {
   "cell_type": "code",
   "execution_count": 166,
   "source": [
    "sas_token = getpass.getpass() \n",
    "sas_token"
   ],
   "outputs": [
    {
     "output_type": "execute_result",
     "data": {
      "text/plain": [
       "'sp=racw&st=2021-09-27T07:58:58Z&se=2021-09-27T15:58:58Z&spr=https&sv=2020-08-04&sr=c&sig=GpRHin%2BVS%2FI8q3K5tNI3j0U%2F1XkJC0U1RhTGZ54GfD4%3D'"
      ]
     },
     "metadata": {},
     "execution_count": 166
    }
   ],
   "metadata": {}
  },
  {
   "cell_type": "code",
   "execution_count": 154,
   "source": [
    "\n",
    "def azure2pc(sas_url, path):\n",
    "    if Path(path).exists():\n",
    "        raise FileExistsError(path)\n",
    "    else: \n",
    "        blob_client = BlobClient.from_blob_url(sas_url)\n",
    "        download_stream = blob_client.download_blob()\n",
    "        \n",
    "        with NamedTemporaryFile(dir=os.path.dirname(path)) as f:\n",
    "            f.write(download_stream.readall())\n",
    "            os.link(f.name, path)\n",
    "\n",
    "\n",
    "def pc2azure(path, sas_url):\n",
    "    blob_client = BlobClient.from_blob_url(sas_url)\n",
    "    with open(path, \"rb\") as f:\n",
    "        blob_client.upload_blob(f)\n"
   ],
   "outputs": [],
   "metadata": {}
  },
  {
   "cell_type": "code",
   "execution_count": 155,
   "source": [
    "# Download a file from Azure to Planatery Computer VM:\n",
    "\n",
    "# filename = \"Avg_temp_max_CMIP5__30_yrs__1950_to_1979.nc\"\n",
    "filename = \"tasmax_day_BCSD_historical_r1i1p1_inmcm4_1976.nc\"\n",
    "\n",
    "# From Azure\n",
    "url_prefix = 'https://nexdcp30.blob.core.windows.net'\n",
    "blob_folder = \"cmip5/historical\"\n",
    "sas_url = f\"{url_prefix}/{blob_folder}/{filename}?{sas_token}\"\n",
    "\n",
    "# To Pla. Compute remote VM\n",
    "path = f\"./Koray/CMIP5/{filename}\"\n",
    "\n",
    "azure2pc(sas_url, path)"
   ],
   "outputs": [],
   "metadata": {}
  },
  {
   "cell_type": "code",
   "execution_count": 167,
   "source": [
    "# Upload a file from Planatery Computer VM to Azure:\n",
    "\n",
    "filename = \"test.png\"\n",
    "\n",
    "url_prefix = 'https://nexdcp30.blob.core.windows.net'\n",
    "blob_folder = \"flagged\"\n",
    "sas_url = f\"{url_prefix}/{blob_folder}/{filename}?{sas_token}\"\n",
    "\n",
    "path = \"Koray/test.png\"\n",
    "\n",
    "pc2azure(path, sas_url)\n"
   ],
   "outputs": [],
   "metadata": {}
  },
  {
   "cell_type": "code",
   "execution_count": null,
   "source": [],
   "outputs": [],
   "metadata": {}
  },
  {
   "cell_type": "code",
   "execution_count": null,
   "source": [],
   "outputs": [],
   "metadata": {}
  }
 ],
 "metadata": {
  "kernelspec": {
   "display_name": "Python 3 (ipykernel)",
   "language": "python",
   "name": "python3"
  }
 },
 "nbformat": 4,
 "nbformat_minor": 5
}