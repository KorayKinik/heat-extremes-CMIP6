{
 "cells": [
  {
   "cell_type": "code",
   "execution_count": 1,
   "id": "829c3aee-6244-4ca0-84b5-25a785dab946",
   "metadata": {},
   "outputs": [],
   "source": [
    "\n",
    "import io\n",
    "import os\n",
    "%matplotlib inline\n",
    "import matplotlib.pyplot as plt\n",
    "\n",
    "# data management\n",
    "import xarray as xr\n",
    "import numpy as np\n",
    "import pandas as pd\n",
    "\n",
    "# Azure Connectivity\n",
    "import getpass\n",
    "import azure.storage.blob\n",
    "from azure.storage.blob import BlobClient\n",
    "\n",
    "# utilities\n",
    "import time\n",
    "import urllib.parse\n"
   ]
  },
  {
   "cell_type": "code",
   "execution_count": 2,
   "id": "4b422a1a-9c92-483e-bded-0d052e11f1da",
   "metadata": {},
   "outputs": [
    {
     "name": "stdin",
     "output_type": "stream",
     "text": [
      " ······································································································································\n"
     ]
    }
   ],
   "source": [
    "sas_token = getpass.getpass() "
   ]
  },
  {
   "cell_type": "code",
   "execution_count": 11,
   "id": "548a2d4e-5267-4baf-bf0b-41c31a567975",
   "metadata": {},
   "outputs": [],
   "source": [
    "def download_file(sas_url, filename, overwrite_local_file):\n",
    "    \"\"\"\n",
    "    Downloads the specified file from Azure blob storage\n",
    "    If asked to not overwrite, then first checks if the file is available locally and does not download again in that case.\n",
    "    - sas_url   : url complete with sas token\n",
    "    - filename  : name of the downloaded file\n",
    "    - overwrite_local_file : if True, will overwrite, else, if already available locally, will not download again.\n",
    "    Returns:  None\n",
    "    \"\"\"\n",
    "    if overwrite_local_file or not (os.path.isfile(filename)):        \n",
    "        blob_client = BlobClient.from_blob_url(sas_url)\n",
    "        with open(filename, \"wb\") as my_blob:\n",
    "            download_stream = blob_client.download_blob()\n",
    "            my_blob.write(download_stream.readall())"
   ]
  },
  {
   "cell_type": "code",
   "execution_count": 14,
   "id": "0095f4b6-5db7-48ae-8a8e-0c24729a382b",
   "metadata": {},
   "outputs": [],
   "source": [
    "# filename = \"Avg_temp_max_CMIP5__30_yrs__1950_to_1979.nc\"\n",
    "for year in range(1950, 1980):\n",
    "    filename = f\"tasmax_day_BCSD_historical_r1i1p1_inmcm4_{year}.nc\"\n",
    "    url_prefix = 'https://nexdcp30.blob.core.windows.net/cmip5/historical/'\n",
    "\n",
    "    if not url_prefix is None:\n",
    "        if not url_prefix[-1] == '/':\n",
    "            url_prefix += '/'\n",
    "        sas_url = url_prefix + filename + \"?\" + sas_token    \n",
    "        download_file(sas_url, filename, overwrite_local_file=False)"
   ]
  },
  {
   "cell_type": "code",
   "execution_count": null,
   "id": "c10f1910-3da8-4660-96b2-68c6bc268307",
   "metadata": {},
   "outputs": [],
   "source": []
  },
  {
   "cell_type": "code",
   "execution_count": null,
   "id": "15fa56aa-b5fe-4424-aa1d-536aa7e397cb",
   "metadata": {},
   "outputs": [],
   "source": []
  }
 ],
 "metadata": {
  "kernelspec": {
   "display_name": "Python 3 (ipykernel)",
   "language": "python",
   "name": "python3"
  },
  "language_info": {
   "codemirror_mode": {
    "name": "ipython",
    "version": 3
   },
   "file_extension": ".py",
   "mimetype": "text/x-python",
   "name": "python",
   "nbconvert_exporter": "python",
   "pygments_lexer": "ipython3",
   "version": "3.8.10"
  }
 },
 "nbformat": 4,
 "nbformat_minor": 5
}
