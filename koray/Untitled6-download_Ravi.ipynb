{
 "cells": [
  {
   "cell_type": "code",
   "execution_count": 42,
   "source": [
    "\n",
    "import io\n",
    "import os\n",
    "%matplotlib inline\n",
    "import matplotlib.pyplot as plt\n",
    "\n",
    "# data management\n",
    "import xarray as xr\n",
    "import numpy as np\n",
    "import pandas as pd\n",
    "\n",
    "# Azure Connectivity\n",
    "import getpass\n",
    "import azure.storage.blob\n",
    "from azure.storage.blob import BlobClient\n",
    "\n",
    "# utilities\n",
    "import time\n",
    "import urllib.parse\n",
    "from pathlib import Path\n",
    "from tempfile import NamedTemporaryFile\n"
   ],
   "outputs": [],
   "metadata": {}
  },
  {
   "cell_type": "code",
   "execution_count": 63,
   "source": [
    "sas_token = getpass.getpass() \n",
    "sas_token"
   ],
   "outputs": [
    {
     "output_type": "execute_result",
     "data": {
      "text/plain": [
       "'sp=r&st=2021-09-27T04:30:30Z&se=2021-09-27T12:30:30Z&spr=https&sv=2020-08-04&sr=c&sig=PiXRk8zk%2BERVTsM0MlCuScr8NdyA%2F1abXoEd08BIC7Y%3D'"
      ]
     },
     "metadata": {},
     "execution_count": 63
    }
   ],
   "metadata": {}
  },
  {
   "cell_type": "code",
   "execution_count": 46,
   "source": [
    "\n",
    "def azure2vm(sas_url, path):\n",
    "    if Path(path).exists():\n",
    "        raise FileExistsError(path)\n",
    "    else: \n",
    "        blob_client = BlobClient.from_blob_url(sas_url)\n",
    "        download_stream = blob_client.download_blob()\n",
    "        \n",
    "        tmp = NamedTemporaryFile(dir=os.path.dirname(path), delete=True)\n",
    "        tmp.write(download_stream.readall())\n",
    "\n",
    "        os.rename(tmp.name, path)"
   ],
   "outputs": [],
   "metadata": {}
  },
  {
   "cell_type": "code",
   "execution_count": 71,
   "source": [
    "# filename = \"Avg_temp_max_CMIP5__30_yrs__1950_to_1979.nc\"\n",
    "filename = \"tasmax_day_BCSD_historical_r1i1p1_inmcm4_1950.nc\"\n",
    "\n",
    "# From Azure\n",
    "url_prefix = 'https://nexdcp30.blob.core.windows.net'\n",
    "blob_folder = \"cmip5/historical\"\n",
    "src = f\"{url_prefix}/{blob_folder}/{filename}?{sas_token}\"\n",
    "\n",
    "# To Pla. Compute remote VM\n",
    "dst = f\"./Koray/{filename}\"\n",
    "\n",
    "azure2vm(src, dst)"
   ],
   "outputs": [
    {
     "output_type": "stream",
     "name": "stderr",
     "text": [
      "Exception ignored in: <function _TemporaryFileCloser.__del__ at 0x7ff536e6a430>\n",
      "Traceback (most recent call last):\n",
      "  File \"/srv/conda/envs/notebook/lib/python3.8/tempfile.py\", line 440, in __del__\n",
      "    self.close()\n",
      "  File \"/srv/conda/envs/notebook/lib/python3.8/tempfile.py\", line 436, in close\n",
      "    unlink(self.name)\n",
      "FileNotFoundError: [Errno 2] No such file or directory: '/home/jovyan/Koray/tmpr2zdjyua'\n"
     ]
    }
   ],
   "metadata": {}
  },
  {
   "cell_type": "code",
   "execution_count": null,
   "source": [],
   "outputs": [],
   "metadata": {}
  },
  {
   "cell_type": "code",
   "execution_count": null,
   "source": [],
   "outputs": [],
   "metadata": {}
  }
 ],
 "metadata": {
  "kernelspec": {
   "display_name": "Python 3 (ipykernel)",
   "language": "python",
   "name": "python3"
  },
  "language_info": {
   "name": "python",
   "version": "3.8.12",
   "mimetype": "text/x-python",
   "codemirror_mode": {
    "name": "ipython",
    "version": 3
   },
   "pygments_lexer": "ipython3",
   "nbconvert_exporter": "python",
   "file_extension": ".py"
  }
 },
 "nbformat": 4,
 "nbformat_minor": 5
}