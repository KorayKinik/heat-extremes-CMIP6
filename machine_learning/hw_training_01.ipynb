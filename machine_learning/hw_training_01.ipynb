{
  "cells": [
    {
      "cell_type": "markdown",
      "source": [
        "# Heatwave Training 01 \r\n",
        "+ Train on images to predict Heatwave  \r\n",
        "+ add day of the year to input"
      ],
      "metadata": {
        "nteract": {
          "transient": {
            "deleting": false
          }
        }
      }
    },
    {
      "cell_type": "markdown",
      "source": [
        "## Imports and Initial Variables"
      ],
      "metadata": {
        "nteract": {
          "transient": {
            "deleting": false
          }
        }
      }
    },
    {
      "cell_type": "code",
      "source": [
        "from hw_training_prep import load_images, normalize_images, build_CNN_model, download_dataset_of_images\r\n",
        "from hw_training_01 import Heatwave_Model_Training, LayerDetails\r\n",
        "\r\n",
        "import numpy as np\r\n",
        "\r\n",
        "from azureml.core import Experiment\r\n",
        "from azureml.core import Environment\r\n",
        "from azureml.core import Workspace, Datastore, Dataset, Run\r\n",
        "from azureml.core.compute import ComputeTarget, AmlCompute\r\n",
        "from azureml.core.compute_target import ComputeTargetException\r\n",
        "from azureml.core.dataset import Dataset\r\n",
        "\r\n",
        "from matplotlib import pyplot as plt\r\n",
        "%matplotlib inline\r\n"
      ],
      "outputs": [
        {
          "output_type": "stream",
          "name": "stdout",
          "text": "ws : Workspace.create(name='hes', subscription_id='0e150cbb-ad2f-47a1-849c-c5d0527afd2b', resource_group='hes-nasa-msft')\nall imports successful\ntf version 2.1.0\n"
        }
      ],
      "execution_count": 1,
      "metadata": {
        "jupyter": {
          "source_hidden": false,
          "outputs_hidden": false
        },
        "nteract": {
          "transient": {
            "deleting": false
          }
        },
        "gather": {
          "logged": 1639037024189
        }
      }
    },
    {
      "cell_type": "code",
      "source": [
        "ws = Workspace.from_config()\r\n",
        "print('workspace:\\n', ws)\r\n",
        "sub_folder_name = 'aoi_107_2021_11_11'\r\n",
        "datastore_name = 'workspaceblobstore'"
      ],
      "outputs": [
        {
          "output_type": "stream",
          "name": "stdout",
          "text": "workspace:\n Workspace.create(name='hes', subscription_id='0e150cbb-ad2f-47a1-849c-c5d0527afd2b', resource_group='hes-nasa-msft')\n"
        }
      ],
      "execution_count": 2,
      "metadata": {
        "jupyter": {
          "source_hidden": false,
          "outputs_hidden": false
        },
        "nteract": {
          "transient": {
            "deleting": false
          }
        },
        "gather": {
          "logged": 1639037038765
        }
      }
    },
    {
      "cell_type": "markdown",
      "source": [
        "## Download images from Dataset -- if the parent folder does not already exist locally"
      ],
      "metadata": {
        "nteract": {
          "transient": {
            "deleting": false
          }
        }
      }
    },
    {
      "cell_type": "code",
      "source": [
        "dataset_prefix = 'aoi_107_2021_11_11'\r\n",
        "download_dataset_of_images(dataset_prefix)"
      ],
      "outputs": [
        {
          "output_type": "stream",
          "name": "stdout",
          "text": "The folder aoi_107_2021_11_11 already exists. Will not proceed with the download.\n"
        }
      ],
      "execution_count": 3,
      "metadata": {
        "jupyter": {
          "source_hidden": false,
          "outputs_hidden": false
        },
        "nteract": {
          "transient": {
            "deleting": false
          }
        },
        "gather": {
          "logged": 1639037041569
        }
      }
    },
    {
      "cell_type": "markdown",
      "source": [
        "## Load images using Heatwave Model Training class"
      ],
      "metadata": {
        "nteract": {
          "transient": {
            "deleting": false
          }
        }
      }
    },
    {
      "cell_type": "code",
      "source": [
        "hmt = Heatwave_Model_Training(images_folder_name=dataset_prefix)\r\n",
        "hmt.load_subsets_shuffle_and_normalize(limit=0)\r\n",
        "hmt.print_dataset_summary()"
      ],
      "outputs": [
        {
          "output_type": "stream",
          "name": "stdout",
          "text": "label folder aoi_107_2021_11_11/train/0\nlabel folder aoi_107_2021_11_11/train/1\nlabel folder aoi_107_2021_11_11/validate/0\nlabel folder aoi_107_2021_11_11/validate/1\nlabel folder aoi_107_2021_11_11/test/0\nlabel folder aoi_107_2021_11_11/test/1\nCount of images =  6568\nLabel 0 -- count 4655\nLabel 1 -- count 1913\nlen(train_X) 6568 len(train_Y) 6568 len(train_X_names) 6568\n(231, 349, 3) 1 Img_hw_area_pct_30__1983__d_228__var_tasmax.png\n(231, 349, 3) 0 Img_hw_area_pct_30__2029__d_250__var_tasmax.png\n\nlen(validate_X) 1406\nlen(test_X) 1410\n"
        }
      ],
      "execution_count": 4,
      "metadata": {
        "jupyter": {
          "source_hidden": false,
          "outputs_hidden": false
        },
        "nteract": {
          "transient": {
            "deleting": false
          }
        },
        "gather": {
          "logged": 1639037387180
        }
      }
    },
    {
      "cell_type": "markdown",
      "source": [
        "## Prepare a CNN model using Heatwave Model Training, LayerDetails classes"
      ],
      "metadata": {
        "nteract": {
          "transient": {
            "deleting": false
          }
        }
      }
    },
    {
      "cell_type": "code",
      "source": [
        "print('Preparing model for training 01 -- images only...')\r\n",
        "\r\n",
        "# layers\r\n",
        "build_with_layers = []\r\n",
        "build_with_layers.append(LayerDetails(layerType='C', filters=16, kernel_size= (3,3), pool_size=None, strides=None))\r\n",
        "build_with_layers.append(LayerDetails(layerType='M', filters=None, kernel_size= None, pool_size=(2,2), strides=(2,2)))\r\n",
        "build_with_layers.append(LayerDetails(layerType='C', filters=32, kernel_size= (3,3), pool_size=None, strides=None))               \r\n",
        "\r\n",
        "model = hmt.prepare_model(build_with_layers)\r\n",
        "learning_rate = 0.01\r\n",
        "epochs = 35\r\n",
        "patience=5\r\n",
        "print(model, '\\n')\r\n",
        "\r\n",
        "hmt.train_binary_classification_model(model, learning_rate, epochs, patience)"
      ],
      "outputs": [
        {
          "output_type": "stream",
          "name": "stdout",
          "text": "Preparing model for training 01 -- images only...\nPreparing model for training...\nCreating model...\ninput_shape = [231, 349, 3] num_classes = 1\nModel: \"model_1639037569\"\n_________________________________________________________________\nLayer (type)                 Output Shape              Param #   \n=================================================================\ninput_1 (InputLayer)         [(None, 231, 349, 3)]     0         \n_________________________________________________________________\nconv2d (Conv2D)              (None, 231, 349, 16)      448       \n_________________________________________________________________\nmax_pooling2d (MaxPooling2D) (None, 115, 174, 16)      0         \n_________________________________________________________________\nconv2d_1 (Conv2D)            (None, 115, 174, 32)      4640      \n_________________________________________________________________\nflatten (Flatten)            (None, 640320)            0         \n_________________________________________________________________\ndense (Dense)                (None, 1)                 640321    \n=================================================================\nTotal params: 645,409\nTrainable params: 645,409\nNon-trainable params: 0\n_________________________________________________________________\nNone\n<tensorflow.python.keras.engine.training.Model object at 0x7fc665b7c978> \n\nTrain on 6568 samples, validate on 1406 samples\nEpoch 1/35\n6568/6568 [==============================] - 96s 15ms/sample - loss: 0.5362 - accuracy: 0.7782 - val_loss: 0.3965 - val_accuracy: 0.8222\b\b\b\b\b\b\b\b\b\b\b\b\b\b\b\b\b\b\b\b\b\b\b\b\b\b\b\b\b\b\b\b\b\b\b\b\b\b\b\b\nEpoch 2/35\n6568/6568 [==============================] - 96s 15ms/sample - loss: 0.4053 - accuracy: 0.8182 - val_loss: 0.3608 - val_accuracy: 0.8478\b\b\b\b\b\b\b\b\b\b\b\b\b\b\b\b\b\b\b\b\b\b\b\b\b\b\b\b\b\b\b\b\b\b\b\b\b\b\b\b\nEpoch 3/35\n6568/6568 [==============================] - 96s 15ms/sample - loss: 0.3778 - accuracy: 0.8331 - val_loss: 0.3281 - val_accuracy: 0.8642\b\b\b\b\b\b\b\b\b\b\b\b\b\b\b\b\b\b\b\b\b\b\b\b\b\b\b\b\b\b\b\b\b\b\b\b\b\b\b\b\nEpoch 4/35\n6568/6568 [==============================] - 97s 15ms/sample - loss: 0.3822 - accuracy: 0.8283 - val_loss: 0.3461 - val_accuracy: 0.8563\b\b\b\b\b\b\b\b\b\b\b\b\b\b\b\b\b\b\b\b\b\b\b\b\b\b\b\b\b\b\b\b\b\b\b\b\b\b\b\b\nEpoch 5/35\n6568/6568 [==============================] - 95s 15ms/sample - loss: 0.3596 - accuracy: 0.8386 - val_loss: 0.3380 - val_accuracy: 0.8400\b\b\b\b\b\b\b\b\b\b\b\b\b\b\b\b\b\b\b\b\b\b\b\b\b\b\b\b\b\b\b\b\b\b\b\b\b\b\b\b\nEpoch 6/35\n6568/6568 [==============================] - 95s 14ms/sample - loss: 0.3493 - accuracy: 0.8436 - val_loss: 0.3209 - val_accuracy: 0.8535\b\b\b\b\b\b\b\b\b\b\b\b\b\b\b\b\b\b\b\b\b\b\b\b\b\b\b\b\b\b\b\b\b\b\b\b\b\b\b\b\nEpoch 7/35\n6568/6568 [==============================] - 96s 15ms/sample - loss: 0.3328 - accuracy: 0.8502 - val_loss: 0.3149 - val_accuracy: 0.8585\b\b\b\b\b\b\b\b\b\b\b\b\b\b\b\b\b\b\b\b\b\b\b\b\b\b\b\b\b\b\b\b\b\b\b\b\b\b\b\b\nEpoch 8/35\n6568/6568 [==============================] - 97s 15ms/sample - loss: 0.3377 - accuracy: 0.8452 - val_loss: 0.5242 - val_accuracy: 0.7788\b\b\b\b\b\b\b\b\b\b\b\b\b\b\b\b\b\b\b\b\b\b\b\b\b\b\b\b\b\b\b\b\b\b\b\b\b\b\b\b\nEpoch 9/35\n6568/6568 [==============================] - 95s 15ms/sample - loss: 0.3238 - accuracy: 0.8555 - val_loss: 0.2921 - val_accuracy: 0.8642\b\b\b\b\b\b\b\b\b\b\b\b\b\b\b\b\b\b\b\b\b\b\b\b\b\b\b\b\b\b\b\b\b\b\b\b\b\b\b\b\nEpoch 10/35\n6568/6568 [==============================] - 96s 15ms/sample - loss: 0.3226 - accuracy: 0.8576 - val_loss: 0.4198 - val_accuracy: 0.8414\b\b\b\b\b\b\b\b\b\b\b\b\b\b\b\b\b\b\b\b\b\b\b\b\b\b\b\b\b\b\b\b\b\b\b\b\b\b\b\b\nEpoch 11/35\n6568/6568 [==============================] - 95s 15ms/sample - loss: 0.3178 - accuracy: 0.8607 - val_loss: 0.5134 - val_accuracy: 0.7603\b\b\b\b\b\b\b\b\b\b\b\b\b\b\b\b\b\b\b\b\b\b\b\b\b\b\b\b\b\b\b\b\b\b\b\b\b\b\b\b\nEpoch 12/35\n6568/6568 [==============================] - 96s 15ms/sample - loss: 0.3180 - accuracy: 0.8589 - val_loss: 0.3410 - val_accuracy: 0.8492\b\b\b\b\b\b\b\b\b\b\b\b\b\b\b\b\b\b\b\b\b\b\b\b\b\b\b\b\b\b\b\b\b\b\b\b\b\b\b\b\nEpoch 13/35\n6568/6568 [==============================] - 95s 15ms/sample - loss: 0.3146 - accuracy: 0.8595 - val_loss: 0.3866 - val_accuracy: 0.8421\b\b\b\b\b\b\b\b\b\b\b\b\b\b\b\b\b\b\b\b\b\b\b\b\b\b\b\b\b\b\b\b\b\b\b\b\b\b\b\b\nEpoch 14/35\n6568/6568 [==============================] - 96s 15ms/sample - loss: 0.3066 - accuracy: 0.8618 - val_loss: 0.2991 - val_accuracy: 0.8748\b\b\b\b\b\b\b\b\b\b\b\b\b\b\b\b\b\b\b\b\b\b\b\b\b\b\b\b\b\b\b\b\b\b\b\b\b\b\b\b\nEpoch 00014: early stopping\nTraining execution time (mins) 22.46\n1410/1410 [==============================] - 6s 4ms/sample - loss: 0.3207 - accuracy: 0.8638\b\b\b\b\b\b\b\b\b\b\b\b\b\b\b\b\b\b\b\b\b\b\b\b\b\b\b\b\b\b\b\b\b\b\b\b\b\b\b\b\b\b\b\b\b\b\b\b\b\b\b\b\b\b\b\b\b\b\b\b\b\b\b\b\b\b\b\b\b\b\b\b\b\b\b\b\b\b\b\b\ntest loss = 0.32, test acc = 0.8600000143051147\n"
        }
      ],
      "execution_count": 5,
      "metadata": {
        "jupyter": {
          "source_hidden": false,
          "outputs_hidden": false
        },
        "nteract": {
          "transient": {
            "deleting": false
          }
        },
        "gather": {
          "logged": 1639038923922
        }
      }
    },
    {
      "cell_type": "code",
      "source": [],
      "outputs": [],
      "execution_count": null,
      "metadata": {
        "jupyter": {
          "source_hidden": false,
          "outputs_hidden": false
        },
        "nteract": {
          "transient": {
            "deleting": false
          }
        }
      }
    }
  ],
  "metadata": {
    "kernelspec": {
      "name": "python3-azureml",
      "language": "python",
      "display_name": "Python 3.6 - AzureML"
    },
    "language_info": {
      "name": "python",
      "version": "3.6.9",
      "mimetype": "text/x-python",
      "codemirror_mode": {
        "name": "ipython",
        "version": 3
      },
      "pygments_lexer": "ipython3",
      "nbconvert_exporter": "python",
      "file_extension": ".py"
    },
    "kernel_info": {
      "name": "python3-azureml"
    },
    "nteract": {
      "version": "nteract-front-end@1.0.0"
    },
    "microsoft": {
      "host": {
        "AzureML": {
          "notebookHasBeenCompleted": true
        }
      }
    }
  },
  "nbformat": 4,
  "nbformat_minor": 2
}