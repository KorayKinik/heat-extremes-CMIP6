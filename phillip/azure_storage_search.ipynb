{
 "cells": [
  {
   "cell_type": "markdown",
   "id": "3129aaeb-b129-4d2d-b371-e5f688cbf180",
   "metadata": {},
   "source": [
    "## Testing Azure Blob Sotrage Recursive File Downloading"
   ]
  },
  {
   "cell_type": "code",
   "execution_count": 1,
   "id": "9b3f5c1d-b724-4ba3-91fd-d482e7e146d0",
   "metadata": {},
   "outputs": [],
   "source": [
    "# Azure Connectivity\n",
    "import getpass\n",
    "import azure.storage.blob\n",
    "from azure.storage.blob import BlobClient\n",
    "from azure.storage.blob import ContainerClient\n",
    "from re import search"
   ]
  },
  {
   "cell_type": "code",
   "execution_count": 9,
   "id": "ca7ba784-f765-40c7-adad-1846e5bba8b1",
   "metadata": {},
   "outputs": [],
   "source": [
    "def generate_conn_string(storage_account_name: str = \"\", sas_token: str = \"\") -> str:\n",
    "    \n",
    "    \"\"\"\n",
    "    Takes in a storage account name and sas_token and generates a properly formatted Azure connection string.\n",
    "    Input Parameters:\n",
    "    - storage_account_name  : str \n",
    "    - sas_token  : str\n",
    "    Returns:  The generated connection string. \n",
    "    \"\"\"\n",
    "    \n",
    "    storage_account_connection_string = \"BlobEndpoint=https://{}.blob.core.windows.net/\".format(storage_account_name)\n",
    "    sas_token_connection_string = \"SharedAccessSignature={}\".format(sas_token)\n",
    "    \n",
    "    return storage_account_connection_string + \";\" + sas_token_connection_string"
   ]
  },
  {
   "cell_type": "code",
   "execution_count": 15,
   "id": "2fa73258-1ae4-4687-a794-e9fa2f65c97a",
   "metadata": {},
   "outputs": [],
   "source": [
    "def recursive_storage_search(storage_account_name: str, container_name: str, sas_token: str, search_string: str, folder_prefix: str = \"\") -> list:\n",
    "    \n",
    "    \"\"\"\n",
    "    Recursively searches a container within a storage account for the existence of the file_search_string and returns a list of \n",
    "    complete blob names for anything that matches. Allows users to add a folder prefix to reduce the scope\n",
    "    of their recursive search. Folder_prefix must be the absolute path of the folder as it relates to the blob storage container.\n",
    "    Input Parameters:\n",
    "    - storage_account_name  : str Azure storage account name \n",
    "    - container_name  : str Azure storage container name\n",
    "    - sas_token  : str sas token \n",
    "    - search_string  : str search string you are interested in finding in the exisiting blobs\n",
    "    - folder_prefix  : str absolute path of the folder you want to recursively search\n",
    "    Returns:  A list of complete storage blob names for blos that contain the file_search_string. \n",
    "    \"\"\"\n",
    "    \n",
    "    blob_return_list = []\n",
    "    \n",
    "    az_conn_str = generate_conn_string(storage_account_name, sas_token)\n",
    "    \n",
    "    container_client = ContainerClient.from_connection_string(conn_str=az_conn_str, container_name=container_name)\n",
    "    \n",
    "    blob_list = container_client.list_blobs(folder_prefix)\n",
    "    \n",
    "    for blob in blob_list:\n",
    "        if search(search_string, blob.name):\n",
    "            blob_return_list.append(blob.name)\n",
    "    \n",
    "    return blob_return_list"
   ]
  },
  {
   "cell_type": "code",
   "execution_count": 16,
   "id": "4a151db2-26c7-4cf9-869e-99f21d174031",
   "metadata": {},
   "outputs": [
    {
     "data": {
      "text/plain": [
       "['10_year_temp/10_year_max_temp__Rgn_1__1950_to_1959__CMIP6_historical.nc']"
      ]
     },
     "execution_count": 16,
     "metadata": {},
     "output_type": "execute_result"
    }
   ],
   "source": [
    "sas_token=\"<PLACE SAS TOKEN HERE>\"\n",
    "recursive_storage_search(\"nasanex30analysis\", \"cmip6\", sas_token, \"1959\", \"10_year_temp\")\n",
    "\n",
    "\n"
   ]
  },
  {
   "cell_type": "code",
   "execution_count": null,
   "id": "31f1e686-84db-4168-82ec-ac88ff951c0e",
   "metadata": {},
   "outputs": [],
   "source": []
  }
 ],
 "metadata": {
  "kernelspec": {
   "display_name": "Python 3 (ipykernel)",
   "language": "python",
   "name": "python3"
  },
  "language_info": {
   "codemirror_mode": {
    "name": "ipython",
    "version": 3
   },
   "file_extension": ".py",
   "mimetype": "text/x-python",
   "name": "python",
   "nbconvert_exporter": "python",
   "pygments_lexer": "ipython3",
   "version": "3.8.12"
  }
 },
 "nbformat": 4,
 "nbformat_minor": 5
}
